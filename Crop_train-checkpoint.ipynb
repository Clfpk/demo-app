{
 "cells": [
  {
   "cell_type": "code",
   "execution_count": 26,
   "id": "4e196035",
   "metadata": {},
   "outputs": [],
   "source": [
    "import pandas as pd\n",
    "import numpy as np\n"
   ]
  },
  {
   "cell_type": "code",
   "execution_count": 27,
   "id": "14edd907",
   "metadata": {},
   "outputs": [
    {
     "name": "stdout",
     "output_type": "stream",
     "text": [
      "          N     P   K  temperature   humidity        ph    rainfall   label\n",
      "0      90.0  42.0  43    20.879744  82.002744  6.502985  202.935536    rice\n",
      "1      85.0  58.0  41    21.770462  80.319644  7.038096  226.655537    rice\n",
      "2      60.0  55.0  44    23.004459  82.320763  7.840207  263.964248    rice\n",
      "3      74.0  35.0  40    26.491096  80.158363  6.980401  242.864034    rice\n",
      "4      78.0  42.0  42    20.130175  81.604873  7.628473  262.717340    rice\n",
      "...     ...   ...  ..          ...        ...       ...         ...     ...\n",
      "2195  107.0  34.0  32    26.774637  66.413269  6.780064  177.774507  coffee\n",
      "2196   99.0  15.0  27    27.417112  56.636362  6.086922  127.924610  coffee\n",
      "2197  118.0  33.0  30    24.131797  67.225123  6.362608  173.322839  coffee\n",
      "2198  117.0  32.0  34    26.272418  52.127394  6.758793  127.175293  coffee\n",
      "2199  104.0  18.0  30    23.603016  60.396475  6.779833  140.937041  coffee\n",
      "\n",
      "[2200 rows x 8 columns]\n"
     ]
    }
   ],
   "source": [
    "df=pd.read_csv(\"CropData.csv\")\n",
    "print(df)"
   ]
  },
  {
   "cell_type": "code",
   "execution_count": 28,
   "id": "1e2067f6",
   "metadata": {},
   "outputs": [
    {
     "data": {
      "text/plain": [
       "N              2\n",
       "P              1\n",
       "K              0\n",
       "temperature    5\n",
       "humidity       0\n",
       "ph             2\n",
       "rainfall       2\n",
       "label          0\n",
       "dtype: int64"
      ]
     },
     "execution_count": 28,
     "metadata": {},
     "output_type": "execute_result"
    }
   ],
   "source": [
    "df.isnull().sum()"
   ]
  },
  {
   "cell_type": "code",
   "execution_count": 29,
   "id": "93c3faca",
   "metadata": {},
   "outputs": [],
   "source": [
    "df=df.dropna()"
   ]
  },
  {
   "cell_type": "code",
   "execution_count": 30,
   "id": "189c0ec0",
   "metadata": {},
   "outputs": [
    {
     "data": {
      "text/plain": [
       "N              0\n",
       "P              0\n",
       "K              0\n",
       "temperature    0\n",
       "humidity       0\n",
       "ph             0\n",
       "rainfall       0\n",
       "label          0\n",
       "dtype: int64"
      ]
     },
     "execution_count": 30,
     "metadata": {},
     "output_type": "execute_result"
    }
   ],
   "source": [
    "df.isnull().sum()"
   ]
  },
  {
   "cell_type": "code",
   "execution_count": 31,
   "id": "1d958e4e",
   "metadata": {},
   "outputs": [
    {
     "data": {
      "text/plain": [
       "N              float64\n",
       "P              float64\n",
       "K                int64\n",
       "temperature    float64\n",
       "humidity       float64\n",
       "ph             float64\n",
       "rainfall       float64\n",
       "label           object\n",
       "dtype: object"
      ]
     },
     "execution_count": 31,
     "metadata": {},
     "output_type": "execute_result"
    }
   ],
   "source": [
    "df.dtypes"
   ]
  },
  {
   "cell_type": "code",
   "execution_count": 32,
   "id": "83a8969d",
   "metadata": {},
   "outputs": [
    {
     "data": {
      "text/plain": [
       "(2192, 7)"
      ]
     },
     "execution_count": 32,
     "metadata": {},
     "output_type": "execute_result"
    }
   ],
   "source": [
    "x=df.drop([\"label\"],axis=1)\n",
    "y=df[\"label\"]\n",
    "x=x.to_numpy()\n",
    "x.shape"
   ]
  },
  {
   "cell_type": "code",
   "execution_count": 33,
   "id": "1f2624fd",
   "metadata": {},
   "outputs": [
    {
     "name": "stdout",
     "output_type": "stream",
     "text": [
      "(1096, 7) (1096, 7) (1096,) (1096,)\n"
     ]
    }
   ],
   "source": [
    "from sklearn.model_selection import train_test_split\n",
    "X_train, X_test, y_train, y_test = train_test_split(x, y, test_size=0.50, random_state=42)\n",
    "print(X_train.shape, X_test.shape, y_train.shape, y_test.shape)"
   ]
  },
  {
   "cell_type": "code",
   "execution_count": 34,
   "id": "e7b5044e",
   "metadata": {},
   "outputs": [
    {
     "data": {
      "text/plain": [
       "SVC()"
      ]
     },
     "execution_count": 34,
     "metadata": {},
     "output_type": "execute_result"
    }
   ],
   "source": [
    "from sklearn.svm import SVC\n",
    "clf=SVC()\n",
    "clf.fit(X_train,y_train)"
   ]
  },
  {
   "cell_type": "code",
   "execution_count": 35,
   "id": "a7d455eb",
   "metadata": {},
   "outputs": [
    {
     "data": {
      "text/plain": [
       "array(['kidneybeans', 'mothbeans', 'grapes', ..., 'maize', 'lentil',\n",
       "       'kidneybeans'], dtype=object)"
      ]
     },
     "execution_count": 35,
     "metadata": {},
     "output_type": "execute_result"
    }
   ],
   "source": [
    "y_pred=clf.predict(X_test)\n",
    "y_pred"
   ]
  },
  {
   "cell_type": "code",
   "execution_count": 36,
   "id": "e9167352",
   "metadata": {},
   "outputs": [
    {
     "name": "stdout",
     "output_type": "stream",
     "text": [
      "[[55  0  0  0  0  0  0  0  0  0  0  0  0  0  0  0  0  0  0  0  0  0]\n",
      " [ 0 53  0  0  0  0  0  0  0  0  0  0  0  0  0  0  0  0  0  0  0  0]\n",
      " [ 0  0 50  0  0  0  0  0  0  0  0  0  0  0  0  0  0  0  0  0  0  0]\n",
      " [ 0  0  0 51  0  0  0  0  0  0  0  0  0  0  0  0  0  0  0  0  0  0]\n",
      " [ 0  0  0  0 46  0  0  0  0  0  0  0  0  0  0  0  0  0  0  0  0  0]\n",
      " [ 0  0  0  0  0 50  0  0  1  0  0  0  0  0  0  0  0  0  0  0  0  0]\n",
      " [ 0  0  0  0  0  0 59  0  0  0  0  0  0  0  0  0  0  0  0  0  0  0]\n",
      " [ 0  0  0  0  0  0  0 52  0  0  0  0  0  0  0  0  0  0  0  0  0  0]\n",
      " [ 0  0  0  0  0  0  0  0 49  0  0  0  0  0  0  0  0  0  0  0  0  0]\n",
      " [ 0  0  0  0  0  0  0  0  0 61  0  0  0  0  0  0  0  0  0  0  0  0]\n",
      " [ 0  0  0  0  0  0  0  0  0  0 45  0  0  0  0  0  0  0  0  0  0  0]\n",
      " [ 0  0  0  0  0  0  0  0  0  0  0 45  0  0  0  0  0  0  0  0  0  0]\n",
      " [ 0  0  0  0  0  0  0  0  0  0  0  0 45  0  0  0  0  0  0  0  0  0]\n",
      " [ 0  0  7  0  0  0  0  0  0  0  2  0  0 44  0  0  0  0  0  0  0  0]\n",
      " [ 0  0  0  0  0  0  0  0  0  0  0  0  0  0 47  0  0  0  0  0  0  0]\n",
      " [ 0  0  0  0  0  0  0  0  0  0  0  0  0  0  0 50  0  0  0  0  0  0]\n",
      " [ 0  0  0  0  0  0  0  0  0  0  0  0  0  0  0  0 48  0  0  0  0  0]\n",
      " [ 0  0  0  0  0  0  0  0  1  0  0  0  0  0  0  0  0 46  0  0  2  0]\n",
      " [ 0  0  0  0  0  0  0  0  0  7  0  0  0  0  0  0  0  0 45  0  0  0]\n",
      " [ 0  0  0  0  0  0  0  0  0  0  0  0  0  0  0  0  0  0  0 50  0  0]\n",
      " [ 0  0  0  0  0  0  0  0 10  0  0  0  0  0  0  0  0  0  0  0 31  0]\n",
      " [ 0  0  0  0  0  0  0  0  0  0  0  0  0  0  0  0  0  0  0  0  0 44]]\n",
      "              precision    recall  f1-score   support\n",
      "\n",
      "       apple       1.00      1.00      1.00        55\n",
      "      banana       1.00      1.00      1.00        53\n",
      "   blackgram       0.88      1.00      0.93        50\n",
      "    chickpea       1.00      1.00      1.00        51\n",
      "     coconut       1.00      1.00      1.00        46\n",
      "      coffee       1.00      0.98      0.99        51\n",
      "      cotton       1.00      1.00      1.00        59\n",
      "      grapes       1.00      1.00      1.00        52\n",
      "        jute       0.80      1.00      0.89        49\n",
      " kidneybeans       0.90      1.00      0.95        61\n",
      "      lentil       0.96      1.00      0.98        45\n",
      "       maize       1.00      1.00      1.00        45\n",
      "       mango       1.00      1.00      1.00        45\n",
      "   mothbeans       1.00      0.83      0.91        53\n",
      "    mungbean       1.00      1.00      1.00        47\n",
      "   muskmelon       1.00      1.00      1.00        50\n",
      "      orange       1.00      1.00      1.00        48\n",
      "      papaya       1.00      0.94      0.97        49\n",
      "  pigeonpeas       1.00      0.87      0.93        52\n",
      " pomegranate       1.00      1.00      1.00        50\n",
      "        rice       0.94      0.76      0.84        41\n",
      "  watermelon       1.00      1.00      1.00        44\n",
      "\n",
      "    accuracy                           0.97      1096\n",
      "   macro avg       0.98      0.97      0.97      1096\n",
      "weighted avg       0.98      0.97      0.97      1096\n",
      "\n"
     ]
    }
   ],
   "source": [
    "from sklearn.metrics import confusion_matrix,classification_report\n",
    "print(confusion_matrix(y_test,y_pred))\n",
    "print(classification_report(y_test,y_pred))"
   ]
  },
  {
   "cell_type": "code",
   "execution_count": 37,
   "id": "9cc99c9f",
   "metadata": {},
   "outputs": [
    {
     "data": {
      "text/plain": [
       "array(['mothbeans'], dtype=object)"
      ]
     },
     "execution_count": 37,
     "metadata": {},
     "output_type": "execute_result"
    }
   ],
   "source": [
    "clf.predict([[1.2,1.3,4.1,1.5,1.1,4.5,5.1]])"
   ]
  },
  {
   "cell_type": "code",
   "execution_count": 38,
   "id": "7cc7fb1b",
   "metadata": {},
   "outputs": [],
   "source": [
    "import pickle\n",
    "pickle.dump(clf,open(\"model_CropData.pkl\",\"wb\"))"
   ]
  },
  {
   "cell_type": "code",
   "execution_count": null,
   "id": "0363ee54",
   "metadata": {},
   "outputs": [],
   "source": []
  },
  {
   "cell_type": "code",
   "execution_count": null,
   "id": "d6ac6ff9",
   "metadata": {},
   "outputs": [],
   "source": []
  },
  {
   "cell_type": "code",
   "execution_count": null,
   "id": "3a7a7332",
   "metadata": {},
   "outputs": [],
   "source": []
  }
 ],
 "metadata": {
  "kernelspec": {
   "display_name": "Python 3 (ipykernel)",
   "language": "python",
   "name": "python3"
  },
  "language_info": {
   "codemirror_mode": {
    "name": "ipython",
    "version": 3
   },
   "file_extension": ".py",
   "mimetype": "text/x-python",
   "name": "python",
   "nbconvert_exporter": "python",
   "pygments_lexer": "ipython3",
   "version": "3.9.12"
  }
 },
 "nbformat": 4,
 "nbformat_minor": 5
}
