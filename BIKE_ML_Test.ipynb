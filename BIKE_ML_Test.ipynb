{
 "cells": [
  {
   "cell_type": "code",
   "execution_count": 1,
   "id": "05a11078",
   "metadata": {},
   "outputs": [
    {
     "name": "stdout",
     "output_type": "stream",
     "text": [
      "SVM\n",
      "[1]\n",
      "NB\n",
      "[1]\n",
      "KNN\n",
      "[0]\n",
      "DT\n",
      "[0]\n",
      "RF\n",
      "[0]\n",
      "ET\n",
      "[0]\n"
     ]
    }
   ],
   "source": [
    "import pickle\n",
    "model=pickle.load(open(\"model_bike.pkl\",\"rb\"))\n",
    "names=[\"SVM\",\"NB\",\"KNN\",\"DT\",\"RF\",\"ET\"]\n",
    "for name,clf in zip(names,model):\n",
    "    print(name)\n",
    "    print(clf.predict([[0,40000,1,0,4,1,0,0,0,42]]))"
   ]
  },
  {
   "cell_type": "code",
   "execution_count": null,
   "id": "1f92a78d",
   "metadata": {},
   "outputs": [],
   "source": []
  },
  {
   "cell_type": "code",
   "execution_count": null,
   "id": "23673f32",
   "metadata": {},
   "outputs": [],
   "source": []
  }
 ],
 "metadata": {
  "kernelspec": {
   "display_name": "Python 3 (ipykernel)",
   "language": "python",
   "name": "python3"
  },
  "language_info": {
   "codemirror_mode": {
    "name": "ipython",
    "version": 3
   },
   "file_extension": ".py",
   "mimetype": "text/x-python",
   "name": "python",
   "nbconvert_exporter": "python",
   "pygments_lexer": "ipython3",
   "version": "3.9.12"
  }
 },
 "nbformat": 4,
 "nbformat_minor": 5
}
