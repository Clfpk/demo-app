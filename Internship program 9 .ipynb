{
 "cells": [
  {
   "cell_type": "code",
   "execution_count": 2,
   "id": "936fa331",
   "metadata": {},
   "outputs": [
    {
     "name": "stdout",
     "output_type": "stream",
     "text": [
      "Category: Electronics, Code: A, No. of Products: 100\n",
      "Category: Clothing, Code: B, No. of Products: 50\n",
      "Category: Furniture, Code: C, No. of Products: 200\n"
     ]
    }
   ],
   "source": [
    "#Create one class named \"category\" with members \"name\", \"code\", \"no_of_products\"\n",
    "\n",
    "class Category:\n",
    "    def __init__(self, name, code):\n",
    "        self.name = name\n",
    "        self.code = code\n",
    "        self.no_of_products = 0\n",
    "        \n",
    "        if self.code == 'A':\n",
    "            self.no_of_products = 100\n",
    "        elif self.code == 'B':\n",
    "            self.no_of_products = 50\n",
    "        elif self.code == 'C':\n",
    "            self.no_of_products = 200\n",
    "        else:\n",
    "            print(\"Invalid category code\")\n",
    "\n",
    "c1 = Category(\"Electronics\", \"A\")\n",
    "c2 = Category(\"Clothing\", \"B\")\n",
    "c3 = Category(\"Furniture\", \"C\")\n",
    "\n",
    "print(f\"Category: {c1.name}, Code: {c1.code}, No. of Products: {c1.no_of_products}\")\n",
    "print(f\"Category: {c2.name}, Code: {c2.code}, No. of Products: {c2.no_of_products}\")\n",
    "print(f\"Category: {c3.name}, Code: {c3.code}, No. of Products: {c3.no_of_products}\")\n"
   ]
  },
  {
   "cell_type": "code",
   "execution_count": 11,
   "id": "691a4c51",
   "metadata": {},
   "outputs": [
    {
     "name": "stdout",
     "output_type": "stream",
     "text": [
      "Product: SmartTv, Code: L001, Category: A, Price: 12000\n",
      "Product: Gown, Code: T002, Category: B, Price: 2500\n",
      "Product: Bed, Code: S003, Category: C, Price: 22000\n"
     ]
    }
   ],
   "source": [
    "#Create one class named \"product\" with members \"name\", \"code\", \"category\", \"Price\"\n",
    "\n",
    "class Product:\n",
    "    def __init__(self, name, code, category, price):\n",
    "        self.name = name\n",
    "        self.code = code\n",
    "        self.category = category\n",
    "        self.price = price\n",
    "\n",
    "        if self.category == 'A':\n",
    "            if self.price > 1000:\n",
    "                self.price_range = 'high'\n",
    "            else:\n",
    "                self.price_range = 'Medium'\n",
    "        elif self.category == 'B':\n",
    "            if self.price > 500:\n",
    "                self.price_range = 'High'\n",
    "            else:\n",
    "                self.price_range = 'Low'\n",
    "        elif self.category == 'C':\n",
    "            if self.price > 2000:\n",
    "                self.price_range = 'High'\n",
    "            else:\n",
    "                self.price_range = 'Medium'\n",
    "\n",
    "p1 = Product(\"SmartTv\", \"L001\", \"A\", 12000)\n",
    "p2 = Product(\"Gown\", \"T002\", \"B\", 2500)\n",
    "p3 = Product(\"Bed\", \"S003\", \"C\", 22000)\n",
    "\n",
    "print(f\"Product: {p1.name}, Code: {p1.code}, Category: {p1.category}, Price: {p1.price}\")\n",
    "print(f\"Product: {p2.name}, Code: {p2.code}, Category: {p2.category}, Price: {p2.price}\")\n",
    "print(f\"Product: {p3.name}, Code: {p3.code}, Category: {p3.category}, Price: {p3.price}\")\n"
   ]
  },
  {
   "cell_type": "code",
   "execution_count": 15,
   "id": "0ccd1ee7",
   "metadata": {},
   "outputs": [
    {
     "name": "stdout",
     "output_type": "stream",
     "text": [
      "Category: Electronics, Code: A, No. of Products: 50\n",
      "Category: Cloths, Code: B, No. of Products: 400\n",
      "Category: HomeDecor, Code: C, No. of Products: 100\n"
     ]
    }
   ],
   "source": [
    "#Create three objects of a category.\n",
    "\n",
    "class Category:\n",
    "    def __init__(self, name, code):\n",
    "        self.name = name\n",
    "        self.code = code\n",
    "        self.no_of_products = 0\n",
    "        \n",
    "        if self.code == 'A':\n",
    "            self.no_of_products = 50\n",
    "        elif self.code == 'B':\n",
    "            self.no_of_products = 400\n",
    "        elif self.code == 'C':\n",
    "            self.no_of_products = 100\n",
    "        else:\n",
    "            print(\"Invalid category code\")\n",
    "\n",
    "category_details = [\n",
    "    (\"Electronics\", \"A\"),\n",
    "    (\"Cloths\", \"B\"),\n",
    "    (\"HomeDecor\", \"C\")\n",
    "]\n",
    "\n",
    "categories = []\n",
    "for name, code in category_details:\n",
    "    category = Category(name, code)\n",
    "    categories.append(category)\n",
    "\n",
    "for category in categories:\n",
    "    print(f\"Category: {category.name}, Code: {category.code}, No. of Products: {category.no_of_products}\")\n"
   ]
  },
  {
   "cell_type": "code",
   "execution_count": 20,
   "id": "23798455",
   "metadata": {},
   "outputs": [
    {
     "name": "stdout",
     "output_type": "stream",
     "text": [
      "Product: Smartphone, Code: P001\n",
      "Product: Laptop, Code: P002\n",
      "Product: Headphones, Code: P003\n",
      "Product: Coffee Machine, Code: P004\n",
      "Product: Fitness Tracker , Code: P005\n",
      "Product: Backpack, Code: P006\n",
      "Product: Gaming Laptop, Code: P007\n",
      "Product: Speaker, Code: P008\n",
      "Product: Camera, Code: P009\n"
     ]
    }
   ],
   "source": [
    "# Create 10 different products. The code must be unique.\n",
    "\n",
    "class Product:\n",
    "    def __init__(self, name, code):\n",
    "        self.name = name\n",
    "        self.code = code\n",
    "\n",
    "product_names = [\"Smartphone\", \"Laptop\", \"Headphones\", \"Coffee Machine\", \"Fitness Tracker \",\n",
    "                 \"Backpack\", \"Gaming Laptop\", \"Speaker\", \"Camera\"]\n",
    "# Create a list of unique product codes\n",
    "product_codes = [\"P001\", \"P002\", \"P003\", \"P004\", \"P005\",\n",
    "                 \"P006\", \"P007\", \"P008\", \"P009\"]\n",
    "\n",
    "products = []\n",
    "\n",
    "for i in range(9):\n",
    "    product = Product(product_names[i], product_codes[i])\n",
    "    products.append(product)\n",
    "\n",
    "for product in products:\n",
    "    print(f\"Product: {product.name}, Code: {product.code}\")\n",
    "\n"
   ]
  },
  {
   "cell_type": "code",
   "execution_count": 21,
   "id": "cc359982",
   "metadata": {},
   "outputs": [
    {
     "name": "stdout",
     "output_type": "stream",
     "text": [
      "Category: Electronics, Code: A, No. of Products: 100\n",
      "Category: Cloths, Code: B, No. of Products: 50\n",
      "Category: HomeDecor, Code: C, No. of Products: 200\n"
     ]
    }
   ],
   "source": [
    "#Print category info with its no_of_products\n",
    "\n",
    "class Category:\n",
    "    def __init__(self, name, code):\n",
    "        self.name = name\n",
    "        self.code = code\n",
    "        self.no_of_products = 0\n",
    "        \n",
    "        if self.code == 'A':\n",
    "            self.no_of_products = 100\n",
    "        elif self.code == 'B':\n",
    "            self.no_of_products = 50\n",
    "        elif self.code == 'C':\n",
    "            self.no_of_products = 200\n",
    "        else:\n",
    "            print(\"Invalid category code\")\n",
    "\n",
    "categories = [\n",
    "    Category(\"Electronics\", \"A\"),\n",
    "    Category(\"Cloths\", \"B\"),\n",
    "    Category(\"HomeDecor\", \"C\")\n",
    "]\n",
    "\n",
    "for category in categories:\n",
    "    print(f\"Category: {category.name}, Code: {category.code}, No. of Products: {category.no_of_products}\")\n"
   ]
  },
  {
   "cell_type": "code",
   "execution_count": 58,
   "id": "6da7b0bd",
   "metadata": {},
   "outputs": [
    {
     "name": "stdout",
     "output_type": "stream",
     "text": [
      "products sorted by price (high to low):\n",
      "product: TV, price: &1500, brand: LG\n",
      "product: Laptop, price: &1200, brand: Dell\n",
      "product: phone, price: &800, brand: Samsung\n",
      "product: Tablet, price: &600, brand: Apple\n",
      "product: Headphones, price: &200, brand: Sony\n",
      "\n",
      "products sorted by price (low to high):\n",
      "product: Headphones, price: &200, brand: Sony\n",
      "product: Tablet, price: &600, brand: Apple\n",
      "product: phone, price: &800, brand: Samsung\n",
      "product: Laptop, price: &1200, brand: Dell\n",
      "product: TV, price: &1500, brand: LG\n"
     ]
    }
   ],
   "source": [
    "#Sort and Print products based on price ( Price High to Low and Low to High) with all details.\n",
    "\n",
    "products = [\n",
    "    {\"name\": \"Laptop\", \"price\": 1200, \"brand\": \"Dell\"},\n",
    "    {\"name\": \"phone\", \"price\": 800, \"brand\": \"Samsung\"},\n",
    "    {\"name\": \"TV\", \"price\": 1500, \"brand\": \"LG\"},\n",
    "    {\"name\": \"Headphones\", \"price\": 200, \"brand\": \"Sony\"},\n",
    "    {\"name\": \"Tablet\", \"price\": 600, \"brand\": \"Apple\"}\n",
    "]\n",
    "\n",
    "def print_products(product_data):\n",
    "    for product in product_data:\n",
    "        name = product[\"name\"]\n",
    "        price = product[\"price\"]\n",
    "        brand = product[\"brand\"]\n",
    "        print(f\"product: {name}, price: &{price}, brand: {brand}\")\n",
    "        \n",
    "products_high_to_low = sorted(products, key=lambda x: x[\"price\"], reverse=True)\n",
    "print(\"products sorted by price (high to low):\")\n",
    "print_products(products_high_to_low)\n",
    "\n",
    "print(\"\\nproducts sorted by price (low to high):\")\n",
    "print_products(products_low_to_high)\n",
    "        \n",
    "\n"
   ]
  },
  {
   "cell_type": "code",
   "execution_count": 22,
   "id": "43a8e6ea",
   "metadata": {},
   "outputs": [
    {
     "name": "stdout",
     "output_type": "stream",
     "text": [
      "Product found - Name: Watch, Code: E02\n",
      "Product not found\n"
     ]
    }
   ],
   "source": [
    "class Category:\n",
    "    def __init__(self, name, code):\n",
    "        self.name = name\n",
    "        self.code = code\n",
    "        self.products = []\n",
    "\n",
    "    def add_product(self, product):\n",
    "        self.products.append(product)\n",
    "\n",
    "    def search_product_by_code(self, product_code):\n",
    "        for product in self.products:\n",
    "            if product['code'] == product_code:\n",
    "                return product\n",
    "        return None\n",
    "\n",
    "electronics_category = Category(\"Electronics\", \"A\")\n",
    "clothing_category = Category(\"Cloths\", \"B\")\n",
    "\n",
    "electronics_category.add_product({'code': 'E01', 'name': 'Laptop'})\n",
    "electronics_category.add_product({'code': 'E02', 'name': 'Watch'})\n",
    "\n",
    "clothing_category.add_product({'code': 'C01', 'name': 'T-shirt'})\n",
    "clothing_category.add_product({'code': 'C02', 'name': 'Jeans'})\n",
    "\n",
    "search_code = 'E02'\n",
    "found_product = electronics_category.search_product_by_code(search_code)\n",
    "if found_product:\n",
    "    print(f\"Product found - Name: {found_product['name']}, Code: {found_product['code']}\")\n",
    "else:\n",
    "    print(\"Product not found\")\n",
    "\n",
    "search_code = 'C03'\n",
    "found_product = clothing_category.search_product_by_code(search_code)\n",
    "if found_product:\n",
    "    print(f\"Product found - Name: {found_product['name']}, Code: {found_product['code']}\")\n",
    "else:\n",
    "    print(\"Product not found\")\n"
   ]
  },
  {
   "cell_type": "code",
   "execution_count": 22,
   "id": "187f1bbc",
   "metadata": {},
   "outputs": [
    {
     "name": "stdout",
     "output_type": "stream",
     "text": [
      "category: Electronics\n",
      "display name: Electronic Devices\n",
      "parent: None\n",
      "products:\n",
      "code: 001, Name: Laptop, Price: $1200\n",
      "code: 002, Name: Phone, Price: $20000\n",
      "code: 003, Name: Tv, Price: $30000\n"
     ]
    }
   ],
   "source": [
    "class product:\n",
    "    def __init__(self, code, name, price):\n",
    "        self.name = name\n",
    "        self.code = code\n",
    "        self.price = price\n",
    "        \n",
    "class category:\n",
    "    def __init__(self, name, parent=None, display_name=None):\n",
    "        self.name = name\n",
    "        self.parent= parent\n",
    "        self.display_name = display_name\n",
    "        self.product = []\n",
    "        \n",
    "    def add_product(self, product):\n",
    "        self.product.append(product)\n",
    "\n",
    "#creat product object\n",
    "\n",
    "product1 = product(\"001\", \"Laptop\", 1200)\n",
    "product2 = product(\"002\", \"Phone\", 20000)\n",
    "product3 = product(\"003\", \"Tv\", 3000)\n",
    "\n",
    "#creating category object and add product\n",
    "\n",
    "electronics = category(\"Electronics\", display_name=\"Electronic Devices\")\n",
    "electronics.add_product(product1)\n",
    "electronics.add_product(product2)\n",
    "electronics.add_product(product3)\n",
    "\n",
    "print(\"category:\", electronics.name)\n",
    "print(\"display name:\", electronics.display_name)\n",
    "print(\"parent:\", electronics.parent)\n",
    "print(\"products:\")\n",
    "\n",
    "for product in electronics.product:\n",
    "    print(f\"code: {product.code}, Name: {product.name}, Price: ${product.price}\")"
   ]
  },
  {
   "cell_type": "code",
   "execution_count": 11,
   "id": "fc87c154",
   "metadata": {},
   "outputs": [
    {
     "name": "stdout",
     "output_type": "stream",
     "text": [
      "Kim Taehyung\n"
     ]
    }
   ],
   "source": [
    "class Member:\n",
    "    def __init__(self, first_name, last_name):\n",
    "        self.first_name = first_name\n",
    "        self.last_name = last_name\n",
    "        \n",
    "    def generate_display_name(self):\n",
    "        return f\"{self.first_name} {self.last_name}\"\n",
    "        \n",
    "Member = Member(\"Kim\", \"Taehyung\")\n",
    "display_name = Member.generate_display_name()\n",
    "print(display_name)"
   ]
  },
  {
   "cell_type": "code",
   "execution_count": 8,
   "id": "9a06b1f4",
   "metadata": {},
   "outputs": [
    {
     "name": "stdout",
     "output_type": "stream",
     "text": [
      "vehical\n",
      "vehical > Car\n",
      "vehical > Car > petrol\n"
     ]
    }
   ],
   "source": [
    "class Category:\n",
    "    def __init__(self, name, parent=None):\n",
    "        self.name = name\n",
    "        self.parent = parent\n",
    "        \n",
    "    def generate_display_name(self):\n",
    "        if self.parent:\n",
    "            return f\"{self.parent.generate_display_name()} > {self.name}\"\n",
    "        else:\n",
    "            return self.name\n",
    "        \n",
    "vehical = Category(\"vehical\")\n",
    "car = Category(\"Car\", parent=vehical)\n",
    "petrol = Category(\"petrol\", parent=car)\n",
    "\n",
    "print(vehical.generate_display_name())\n",
    "print(car.generate_display_name())\n",
    "print(petrol.generate_display_name())\n"
   ]
  },
  {
   "cell_type": "code",
   "execution_count": 11,
   "id": "d513183d",
   "metadata": {},
   "outputs": [
    {
     "name": "stdout",
     "output_type": "stream",
     "text": [
      "vehical\n",
      "vehical > Car\n",
      "vehical > Car > petrol\n",
      "vehical > Car > sedan\n",
      "vehical > Car > electric\n"
     ]
    }
   ],
   "source": [
    "class Category:\n",
    "    def __init__(self, name, parent=None):\n",
    "        self.name = name\n",
    "        self.parent = parent\n",
    "        \n",
    "    def generate_display_name(self):\n",
    "        if self.parent:\n",
    "            return f\"{self.parent.generate_display_name()} > {self.name}\"\n",
    "        else:\n",
    "            return self.name\n",
    "        \n",
    "vehical = Category(\"vehical\")\n",
    "car = Category(\"Car\", parent=vehical)\n",
    "petrol = Category(\"petrol\", parent=car)\n",
    "sedan = category(\"sedan\", parent=car)\n",
    "electric = category(\"electric\", parent=car)\n",
    "\n",
    "print(vehical.generate_display_name())\n",
    "print(car.generate_display_name())\n",
    "print(petrol.generate_display_name())\n",
    "print(sedan.generate_display_name())\n",
    "print(electric.generate_display_name())"
   ]
  },
  {
   "cell_type": "code",
   "execution_count": 11,
   "id": "eec02bc1",
   "metadata": {},
   "outputs": [
    {
     "name": "stdout",
     "output_type": "stream",
     "text": [
      "p1: 1 2 3\n",
      "p2: 4 5 6\n",
      "p3: 7 8 9\n"
     ]
    }
   ],
   "source": [
    "class point:\n",
    "    def __init__(self, x=0, y=0 ,z=0):\n",
    "        self.x = x\n",
    "        self.y = y\n",
    "        self.z = z\n",
    "\n",
    "        \n",
    "p1 = point(1, 2, 3)\n",
    "p2 = point(4, 5, 6)\n",
    "p3 = point(7, 8, 9)\n",
    "\n",
    "print(\"p1:\", p1.x, p1.y, p1.z)\n",
    "print(\"p2:\", p2.x, p2.y, p2.z)\n",
    "print(\"p3:\", p3.x, p3.y, p3.z)\n"
   ]
  },
  {
   "cell_type": "code",
   "execution_count": 5,
   "id": "b6918d23",
   "metadata": {},
   "outputs": [
    {
     "name": "stdout",
     "output_type": "stream",
     "text": [
      "Category Code: A001\n",
      "Category Name: Electronics\n",
      "Products:\n",
      "  Product Code: P001\n",
      "  Product Name: Laptop\n",
      "  Price: $999.99\n",
      "\n",
      "Category Code: A002\n",
      "Category Name: Clothing\n",
      "Products:\n",
      "  Product Code: P003\n",
      "  Product Name: T-Shirt\n",
      "  Price: $19.99\n",
      "\n"
     ]
    }
   ],
   "source": [
    "categories = [\n",
    "    {\n",
    "        \"code\": \"A001\",\n",
    "        \"name\": \"Electronics\",\n",
    "        \"products\": [\n",
    "            {\n",
    "                \"code\": \"P001\",\n",
    "                \"name\": \"Laptop\",\n",
    "                \"price\": 999.99,\n",
    "            },\n",
    "            \n",
    "        ],\n",
    "    },\n",
    "            {\n",
    "                \"code\": \"A002\",\n",
    "                \"name\": \"Clothing\",\n",
    "                \"products\": [\n",
    "            {\n",
    "                \"code\": \"P003\",\n",
    "                \"name\": \"T-Shirt\",\n",
    "                \"price\": 19.99,\n",
    "            },\n",
    "            \n",
    "        ],\n",
    "    },\n",
    "]\n",
    "\n",
    "def display_categories_with_products(categories):\n",
    "    for category in categories:\n",
    "        print(f\"Category Code: {category['code']}\")\n",
    "        print(f\"Category Name: {category['name']}\")\n",
    "        print(\"Products:\")\n",
    "        for product in category['products']:\n",
    "            print(f\"  Product Code: {product['code']}\")\n",
    "            print(f\"  Product Name: {product['name']}\")\n",
    "            print(f\"  Price: ${product['price']}\")\n",
    "            print()\n",
    "\n",
    "display_categories_with_products(categories)\n"
   ]
  },
  {
   "cell_type": "code",
   "execution_count": 165,
   "id": "ea523521",
   "metadata": {},
   "outputs": [
    {
     "name": "stdout",
     "output_type": "stream",
     "text": [
      "Category Code: A01\n",
      "Display Name: charger\n",
      "Products:\n",
      "- vivo, Price: $12000\n",
      "- Samsung, Price: $15000\n",
      "- vivo, Price: $12000\n",
      "- Samsung, Price: $15000\n",
      "\n",
      "\n",
      "Category Code: A02\n",
      "Display Name: earphones\n",
      "Products:\n",
      "- Apple, Price: $25000\n",
      "- Headphones, Price: $100\n",
      "- Apple, Price: $25000\n",
      "- Headphones, Price: $100\n",
      "\n",
      "\n",
      "Category Code: A03\n",
      "Display Name: smartphones\n",
      "Products:\n",
      "- iphone, Price: $80000\n",
      "- Charger, Price: $30\n",
      "- iphone, Price: $80000\n",
      "- Charger, Price: $30\n",
      "\n",
      "\n"
     ]
    }
   ],
   "source": [
    "from itertools import groupby\n",
    "\n",
    "class Category:\n",
    "    def _init_(self, code, name):\n",
    "        self.code = code\n",
    "        self.name = name\n",
    "        self.products = []\n",
    "        \n",
    "    def add_product(self, product):\n",
    "        self.products.append(product)\n",
    "            \n",
    "class Product:\n",
    "    def _init_(self, name, price):\n",
    "        self.name = name\n",
    "        self.price = price\n",
    "\n",
    "        categories = [\n",
    "            Category(\"A02\", \"charger\"),\n",
    "            Category(\"A03\", \"earphones\"),\n",
    "            Category(\"A01\", \"smartphones\")\n",
    "]\n",
    "\n",
    "        products = [\n",
    "            Product(\"vivo\", 12000),\n",
    "            Product(\"Apple\", 25000),\n",
    "            Product(\"iphone\", 80000),\n",
    "            Product(\"Samsung\", 15000),\n",
    "            Product(\"Headphones\", 100),\n",
    "            Product(\"Charger\", 30)\n",
    "]\n",
    "\n",
    "for i, product in enumerate(products):\n",
    "    categories[i % len(categories)].add_product(product)\n",
    "\n",
    "# Sort categories by name\n",
    "categories.sort(key=lambda category: category.name)\n",
    "\n",
    "for category in categories:\n",
    "    print(f\"Category Code: {category.code}\")\n",
    "    print(f\"Display Name: {category.name}\")\n",
    "    print(\"Products:\")\n",
    "    for product in category.products:\n",
    "        print(f\"- {product.name}, Price: ${product.price}\")\n",
    "    print(\"\\n\")"
   ]
  },
  {
   "cell_type": "code",
   "execution_count": 170,
   "id": "2f18baad",
   "metadata": {},
   "outputs": [
    {
     "name": "stdout",
     "output_type": "stream",
     "text": [
      "City A 008\n",
      "City B 008\n"
     ]
    }
   ],
   "source": [
    "class Location:\n",
    "    def __init__(self, name, code):\n",
    "        self.name = name\n",
    "        self.code = code\n",
    "        \n",
    "location1 = Location(\"City A\", \"008\")\n",
    "location2 = Location(\"City B\", \"008\")\n",
    "\n",
    "print(location1.name, location1.code)\n",
    "print(location2.name, location2.code)"
   ]
  },
  {
   "cell_type": "code",
   "execution_count": 185,
   "id": "3fcf2c27",
   "metadata": {},
   "outputs": [
    {
     "name": "stdout",
     "output_type": "stream",
     "text": [
      "m_1: City A -> City B\n",
      "product: xyx quantity: 10\n",
      "m_2: house A -> house B\n",
      "product: pqr quantity: 50\n"
     ]
    }
   ],
   "source": [
    "class Movement:\n",
    "    def __init__(self, from_location, to_location, product, quantity):\n",
    "        self.f_location = from_location\n",
    "        self.to_location = to_location\n",
    "        self.product = product\n",
    "        self.quantity = quantity\n",
    "\n",
    "m_1 = Movement(\"City A\", \"City B\", \"xyx\", 10)\n",
    "m_2 = Movement(\"house A\", \"house B\", \"pqr\", 50)\n",
    "\n",
    "print(\"m_1:\", m_1.f_location, \"->\", m_1.to_location)\n",
    "print(\"product:\", m_1.product, \"quantity:\", m_1.quantity)\n",
    "\n",
    "print(\"m_2:\", m_2.f_location, \"->\", m_2.to_location)\n",
    "print(\"product:\", m_2.product, \"quantity:\", m_2.quantity)"
   ]
  },
  {
   "cell_type": "code",
   "execution_count": 188,
   "id": "51d17eb3",
   "metadata": {},
   "outputs": [
    {
     "name": "stdout",
     "output_type": "stream",
     "text": [
      "flavor\n"
     ]
    }
   ],
   "source": [
    "class object:\n",
    "    def __init__(self, flavor):\n",
    "        self.flavor = flavor\n",
    "        \n",
    "    @staticmethod\n",
    "    def object_by_flavor(flavor):\n",
    "        return flavor\n",
    "    \n",
    "p1 = object(\"flavor\")\n",
    "print(p1.flavor)"
   ]
  },
  {
   "cell_type": "code",
   "execution_count": 4,
   "id": "4362b1d1",
   "metadata": {},
   "outputs": [
    {
     "name": "stdout",
     "output_type": "stream",
     "text": [
      "{'location1': 'Vadodara', 'location2': 'Ahmedabad', 'location3': 'Gandhinager'}\n"
     ]
    }
   ],
   "source": [
    "class product:\n",
    "    def __init__(self, stock_at_location):\n",
    "        self.stock_at_location = stock_at_location\n",
    "        \n",
    "product\n",
    "stock_at_location = {\n",
    "        \"location1\": \"Vadodara\",\n",
    "        \"location2\": \"Ahmedabad\",\n",
    "        \"location3\": \"Gandhinager\"\n",
    "}\n",
    "\n",
    "print(stock_at_location)"
   ]
  },
  {
   "cell_type": "code",
   "execution_count": 21,
   "id": "e9d9eba1",
   "metadata": {},
   "outputs": [
    {
     "name": "stdout",
     "output_type": "stream",
     "text": [
      "{'location1': 'Vadodara', 'location2': 'Ahmedabad', 'location3': 'Surat', 'location4': 'Rajkot'}\n"
     ]
    }
   ],
   "source": [
    "class Line:\n",
    "    def __init__(self, Vadodara, Ahmedabad, Surat, Rajkot):\n",
    "        self.Vadodara = Vadodara\n",
    "        self.Ahmedabad = Ahmedabad\n",
    "        self.Surat = Surat\n",
    "        self.Rajkot = Rajkot\n",
    "        \n",
    "location = {\n",
    "    \"location1\" : \"Vadodara\",\n",
    "    \"location2\" : \"Ahmedabad\",\n",
    "    \"location3\" : \"Surat\",\n",
    "    \"location4\" : \"Rajkot\"\n",
    "}\n",
    "\n",
    "print(location)\n",
    "\n"
   ]
  },
  {
   "cell_type": "code",
   "execution_count": 32,
   "id": "71f2f71e",
   "metadata": {},
   "outputs": [
    {
     "name": "stdout",
     "output_type": "stream",
     "text": [
      "Laptop\n",
      "Tv\n",
      "Headphone\n",
      "Smartphone\n",
      "Macbook\n"
     ]
    }
   ],
   "source": [
    "class productobject:\n",
    "    def __init__(self, Laptop, Tv, Headphone, Smartphone, Macbook):\n",
    "        self.Laptop = Laptop\n",
    "        self.Tv = Tv\n",
    "        self.Headphone = Headphone\n",
    "        self.Smartphone = Smartphone\n",
    "        self.Macbook = Macbook\n",
    "\n",
    "product = productobject(\"Laptop\", \"Tv\", \"Headphone\", \"Smartphone\", \"Macbook\")\n",
    "\n",
    "print(product.Laptop)\n",
    "print(product.Tv)\n",
    "print(product.Headphone)\n",
    "print(product.Smartphone)\n",
    "print(product.Macbook)\n",
    "\n",
    "\n"
   ]
  },
  {
   "cell_type": "code",
   "execution_count": 6,
   "id": "e2bb69e8",
   "metadata": {},
   "outputs": [
    {
     "name": "stdout",
     "output_type": "stream",
     "text": [
      "Error: Movement failed: Insufficient stock\n",
      "Ahmedabad has Phone: 4 available\n",
      "Rajkot has Tv: 2, T-Shirts: 3 available\n",
      "Baroda has T-Shirts: 1 available\n"
     ]
    }
   ],
   "source": [
    "class Category:\n",
    "    def __init__(self, code, name):\n",
    "        self.code = code\n",
    "        self.name = name\n",
    "        self.products = []\n",
    "        \n",
    "    def add_product(self, product):\n",
    "        self.products.append(product)\n",
    "        \n",
    "    def remove_product(self, product_name, quantity=1):\n",
    "        for product in self.products:\n",
    "            if product.name == product_name:\n",
    "                if len(self.products) >= quantity:\n",
    "                    self.products.remove(product)\n",
    "                else:\n",
    "                    raise ValueError(\"Insufficient stock\")\n",
    "                break\n",
    "        else:\n",
    "            raise ValueError(\"Product not found\")\n",
    "\n",
    "class Product:\n",
    "    def __init__(self, name, price):\n",
    "        self.name = name\n",
    "        self.price = price\n",
    "\n",
    "class Location:\n",
    "    def __init__(self, name):\n",
    "        self.name = name\n",
    "        self.stock = {}\n",
    "        \n",
    "    def add_stock(self, product_name, quantity):\n",
    "        if product_name in self.stock:\n",
    "            self.stock[product_name] += quantity\n",
    "        else:\n",
    "            self.stock[product_name] = quantity\n",
    "        \n",
    "    def remove_stock(self, product_name, quantity):\n",
    "        if product_name in self.stock:\n",
    "            if self.stock[product_name] >= quantity:\n",
    "                self.stock[product_name] -= quantity\n",
    "            else:\n",
    "                raise ValueError(\"Insufficient stock\")\n",
    "        else:\n",
    "            raise ValueError(\"Product not found\")\n",
    "\n",
    "def movement_by_product(from_location, to_location, product_name, quantity):\n",
    "    try:\n",
    "        from_location.remove_stock(product_name, quantity)\n",
    "        to_location.add_stock(product_name, quantity)\n",
    "    except ValueError as e:\n",
    "        raise ValueError(f\"Movement failed: {e}\")\n",
    "\n",
    "categories = [\n",
    "    Category(\"A02\", \"Electronics\"),\n",
    "    Category(\"A03\", \"Clothing\"),\n",
    "    Category(\"A01\", \"Home Decor\")\n",
    "]\n",
    "\n",
    "products = [\n",
    "    Product(\"Phone\", 12000),\n",
    "    Product(\"T-Shirt\", 25000),\n",
    "    Product(\"Curtains\", 80000),\n",
    "    Product(\"tv\", 15000),\n",
    "    Product(\"Frames\", 100),\n",
    "    Product(\" Vases\", 30)\n",
    "]\n",
    "\n",
    "locations = [\n",
    "    Location(\"Ahmedabad\"),\n",
    "    Location(\"Rajkot\"),\n",
    "    Location(\"Baroda\")\n",
    "]\n",
    "\n",
    "for i, product in enumerate(products):\n",
    "    categories[i % len(categories)].add_product(product)\n",
    "\n",
    "# Initial stock at locations\n",
    "locations[0].add_stock(\"Phone\", 4)\n",
    "locations[1].add_stock(\"Tv\", 2)\n",
    "locations[1].add_stock(\"T-Shirts\", 3)\n",
    "locations[2].add_stock(\"T-Shirts\", 1)\n",
    "\n",
    "try:\n",
    "    movement_by_product(locations[0], locations[1], \"Phone\", 5)\n",
    "except ValueError as e:\n",
    "    print(f\"Error: {e}\")\n",
    "\n",
    "for location in locations:\n",
    "    stock_info = \", \".join([f\"{product}: {quantity}\" for product, quantity in location.stock.items()])\n",
    "    print(f\"{location.name} has {stock_info} available\")\n"
   ]
  },
  {
   "cell_type": "code",
   "execution_count": 3,
   "id": "34b72f22",
   "metadata": {},
   "outputs": [
    {
     "name": "stdout",
     "output_type": "stream",
     "text": [
      "Product: Product A\n",
      "  Movement: Electronics\n",
      "\n",
      "Product: Product A\n",
      "  Movement: Electronics\n",
      "\n",
      "Product: Product B\n",
      "  Movement: Clothing\n",
      "\n",
      "Product: Product A\n",
      "  Movement: Electronics\n",
      "  Movement: Home Decor\n",
      "\n",
      "Product: Product B\n",
      "  Movement: Clothing\n",
      "\n"
     ]
    }
   ],
   "source": [
    "class ProductMovementTracker:\n",
    "    def __init__(self):\n",
    "        self.movement_data = {}\n",
    "\n",
    "    def track_movement(self, product, movement):\n",
    "        if product in self.movement_data:\n",
    "            self.movement_data[product].append(movement)\n",
    "        else:\n",
    "            self.movement_data[product] = [movement]\n",
    "\n",
    "        for product, movements in self.movement_data.items():\n",
    "            print(f\"Product: {product}\")\n",
    "            for movement in movements:\n",
    "                print(f\"  Movement: {movement}\")\n",
    "            print()\n",
    "\n",
    "tracker = ProductMovementTracker()\n",
    "tracker.track_movement(\"Product A\", \"Electronics\")\n",
    "tracker.track_movement(\"Product B\", \"Clothing\")\n",
    "tracker.track_movement(\"Product A\", \"Home Decor\")"
   ]
  },
  {
   "cell_type": "code",
   "execution_count": 1,
   "id": "6cd547c6",
   "metadata": {},
   "outputs": [
    {
     "name": "stdout",
     "output_type": "stream",
     "text": [
      "Product: Product A\n",
      " - Location: Vadodara 1, Stock: 50\n",
      " - Location: Ahmedabad 2, Stock: 30\n",
      " - Location: Surat 3, Stock: 20\n",
      "Product: Product B\n",
      " - Location: Vadodara 1, Stock: 40\n",
      " - Location: Ahmedabad 2, Stock: 10\n",
      " - Location: Surat 3, Stock: 25\n",
      "Product: Product C\n",
      " - Location: Vadodara 1, Stock: 15\n",
      " - Location: Ahmedabad 2, Stock: 5\n",
      " - Location: Surat 3, Stock: 30\n"
     ]
    }
   ],
   "source": [
    "def display_product_stock(product_stock):\n",
    "    product_lines = [\n",
    "        f\"Product: {product}\\n\"\n",
    "        + \"\\n\".join([f\" - Location: {location}, Stock: {stock}\" for location, stock in locations.items()])\n",
    "        for product, locations in product_stock.items()\n",
    "    ]\n",
    "    print(\"\\n\".join(product_lines))\n",
    "\n",
    "stock_at_locations = {\n",
    "    \"Product A\": {\n",
    "        \"Vadodara 1\": 50,\n",
    "        \"Ahmedabad 2\": 30,\n",
    "        \"Surat 3\": 20\n",
    "    },\n",
    "    \"Product B\": {\n",
    "        \"Vadodara 1\": 40,\n",
    "        \"Ahmedabad 2\": 10,\n",
    "        \"Surat 3\": 25\n",
    "    },\n",
    "    \"Product C\": {\n",
    "        \"Vadodara 1\": 15,\n",
    "        \"Ahmedabad 2\": 5,\n",
    "        \"Surat 3\": 30\n",
    "    }\n",
    "}\n",
    "\n",
    "display_product_stock(stock_at_locations)"
   ]
  },
  {
   "cell_type": "code",
   "execution_count": 68,
   "id": "1d1ca555",
   "metadata": {},
   "outputs": [
    {
     "name": "stdout",
     "output_type": "stream",
     "text": [
      "Location: Vadodara\n",
      "  - Prachi\n",
      "\n",
      "Location: Ahmedabaa\n",
      "  - Shlok\n",
      "\n",
      "Location: Surat\n",
      "  - Mrs.Shlok\n",
      "\n",
      "Location: Gnagar\n",
      "  - Krishna\n",
      "\n"
     ]
    }
   ],
   "source": [
    "\n",
    "products = [\n",
    "    {\"name\": \"Prachi\", \"location\": \"Vadodara\"},\n",
    "    {\"name\": \"Shlok\", \"location\": \"Ahmedabaa\"},\n",
    "    {\"name\": \"Mrs.Shlok\", \"location\": \"Surat\"},\n",
    "    {\"name\": \"Krishna\", \"location\": \"Gnagar\"},\n",
    "]\n",
    "\n",
    "products_by_location = {}\n",
    "\n",
    "for product in products:\n",
    "    location = product[\"location\"]\n",
    "    if location in products_by_location:\n",
    "        products_by_location[location].append(product[\"name\"])\n",
    "    else:\n",
    "        products_by_location[location] = [product[\"name\"]]\n",
    "\n",
    "for location, product_list in products_by_location.items():\n",
    "    print(f\"Location: {location}\")\n",
    "    for product_name in product_list:\n",
    "        print(f\"  - {product_name}\")\n",
    "    print()\n"
   ]
  },
  {
   "cell_type": "code",
   "execution_count": null,
   "id": "0d1ce889",
   "metadata": {},
   "outputs": [
    {
     "name": "stdout",
     "output_type": "stream",
     "text": [
      "1. Record stock movement\n",
      "2. Display stock movement\n",
      "3. Exit\n",
      "Enter your choice: 2\n",
      "Enter location: vadodara\n",
      "Stock movement: []\n"
     ]
    }
   ],
   "source": [
    "import os\n",
    "import json\n",
    "\n",
    "class StockManager:\n",
    "    def __init__(self, data_path):\n",
    "        self.data_path = data_path\n",
    "    \n",
    "    def record_stock_movement(self, location, movement):\n",
    "        file_path = os.path.join(self.data_path, f\"{location}.json\")\n",
    "        if not os.path.exists(file_path):\n",
    "            with open(file_path, 'w') as f:\n",
    "                json.dump([], f)\n",
    "        \n",
    "        with open(file_path, 'r+') as f:\n",
    "            data = json.load(f)\n",
    "            data.append(movement)\n",
    "            f.seek(0)\n",
    "            json.dump(data, f)\n",
    "    \n",
    "    def get_stock_movement(self, location):\n",
    "        file_path = os.path.join(self.data_path, f\"{location}.json\")\n",
    "        if os.path.exists(file_path):\n",
    "            with open(file_path, 'r') as f:\n",
    "                data = json.load(f)\n",
    "                return data\n",
    "        return []\n",
    "\n",
    "if __name__ == \"__main__\":\n",
    "    data_path = \"stock_data\"\n",
    "    stock_manager = StockManager(data_path)\n",
    "    \n",
    "    while True:\n",
    "        choice = input(\"1. Record stock movement\\n2. Display stock movement\\n3. Exit\\nEnter your choice: \")\n",
    "        \n",
    "        if choice == '1':\n",
    "            location = input(\"Enter location: \")\n",
    "            movement = input(\"Enter stock movement: \")\n",
    "            stock_manager.record_stock_movement(location, movement)\n",
    "            print(\"Stock movement recorded.\")\n",
    "        elif choice == '2':\n",
    "            location = input(\"Enter location: \")\n",
    "            stock_movement = stock_manager.get_stock_movement(location)\n",
    "            print(\"Stock movement:\", stock_movement)\n",
    "        elif choice == '3':\n",
    "            print(\"Exiting...\")\n",
    "            break\n",
    "        else:\n",
    "            print(\"Invalid choice. Please enter a valid option.\")\n"
   ]
  },
  {
   "cell_type": "code",
   "execution_count": 19,
   "id": "cff80108",
   "metadata": {},
   "outputs": [],
   "source": [
    "location = \"location a\"\n",
    "movement_details = \"PYTHON\"\n",
    "file_path = f\"/PYTHON/{location}_PYTHON.xlsx\"\n",
    "\n",
    "with open(\"D:/PYTHON.xlsx\", \"a\")as file:\n",
    "    file.write(movement_details + \"/n\")"
   ]
  },
  {
   "cell_type": "code",
   "execution_count": 34,
   "id": "f34ae32c",
   "metadata": {},
   "outputs": [
    {
     "name": "stdout",
     "output_type": "stream",
     "text": [
      "Name:  Kim Taehyung\n",
      "Age: 29\n",
      "Email: Tae0825@gmail.com\n",
      "Phone: 1234-5678-98\n",
      "Street: Hannam, the Hill\n",
      "City: Seoul\n",
      "Company: BigHit Company\n",
      "Country: South-Korea\n"
     ]
    }
   ],
   "source": [
    "class customer:\n",
    "    def __init__(self, name, age, email, phone, street, city, company, country):\n",
    "        self.name = name\n",
    "        self.age = age\n",
    "        self.email = email\n",
    "        self.phone = phone\n",
    "        self.street = street\n",
    "        self.city = city\n",
    "        self.company = company\n",
    "        self.country = country\n",
    "    \n",
    "    def display_info(self):\n",
    "        print(f\"Name: {self.name}\")\n",
    "        print(f\"Age: {self.age}\")\n",
    "        print(f\"Email: {self.email}\")\n",
    "        print(f\"Phone: {self.phone}\")\n",
    "        print(f\"Street: {self.street}\")\n",
    "        print(f\"City: {self.city}\")\n",
    "        print(f\"Company: {self.company}\")\n",
    "        print(f\"Country: {self.country}\")\n",
    "        \n",
    "customer1 = customer(\" Kim Taehyung\", 29, \"Tae0825@gmail.com\", \"1234-5678-98\", \"Hannam, the Hill\", \"Seoul\", \"BigHit Company\", \"South-Korea\")\n",
    "customer1.display_info()\n",
    "        "
   ]
  },
  {
   "cell_type": "code",
   "execution_count": 57,
   "id": "cbd7ff4b",
   "metadata": {},
   "outputs": [
    {
     "name": "stdout",
     "output_type": "stream",
     "text": [
      "Number: ORD123\n",
      "Company: BH Inc\n",
      "Billing: 123 Billing st\n",
      "Shipping: 025 Shipping st\n",
      "Total_amount: 75.87\n",
      "Order_lines:\n"
     ]
    }
   ],
   "source": [
    "class Order:\n",
    "    def __init__(self, number, date, company, billing, shipping, total_amount, order_lines):\n",
    "        self.number = number\n",
    "        self.date = date\n",
    "        self.company = company\n",
    "        self.billing = billing\n",
    "        self.shipping = shipping\n",
    "        self.total_amount = total_amount\n",
    "        self.order_lines = order_lines\n",
    "        \n",
    "    def company_info(self):\n",
    "        print(f\"Number: {self.number}\")\n",
    "        print(f\"Company: {self.company}\")\n",
    "        print(f\"Billing: {self.billing}\")\n",
    "        print(f\"Shipping: {self.shipping}\")\n",
    "        print(f\"Total_amount: {self.total_amount}\")\n",
    "        print(\"Order_lines:\")\n",
    "        \n",
    "order1 = Order(\n",
    "    number=\"ORD123\",\n",
    "    date=\"08-10-1999\",\n",
    "    company=\"BH Inc\",\n",
    "    billing=\"123 Billing st\",\n",
    "    shipping=\"025 Shipping st\",\n",
    "    total_amount=\"75.87\",\n",
    "    order_lines=order_lines\n",
    ")\n",
    "    \n",
    "order1.company_info()\n"
   ]
  },
  {
   "cell_type": "code",
   "execution_count": 59,
   "id": "d57e47be",
   "metadata": {},
   "outputs": [
    {
     "name": "stdout",
     "output_type": "stream",
     "text": [
      "Customer 1:\n",
      "Company: BH Inc\n",
      "Billing: 123 Billing st\n",
      "Shipping 025 Shipping st\n",
      "Customer 2:\n",
      "Company: ABC Inc\n",
      "Billing: 456 Billing st\n",
      "Shipping 001 Shipping st\n"
     ]
    }
   ],
   "source": [
    "class customer:\n",
    "    def __init__(self, company, billing, shipping):\n",
    "        self.company = company\n",
    "        self.billing = billing\n",
    "        self.shipping = shipping\n",
    "\n",
    "customer1 = customer(\"BH Inc\", \"123 Billing st\", \"025 Shipping st\")\n",
    "customer2 = customer(\"ABC Inc\", \"456 Billing st\", \"001 Shipping st\")\n",
    "                     \n",
    "print(\"Customer 1:\")\n",
    "print(\"Company:\", customer1.company)\n",
    "print(\"Billing:\", customer1.billing)\n",
    "print(\"Shipping\", customer1. shipping)\n",
    "\n",
    "print(\"Customer 2:\")\n",
    "print(\"Company:\", customer2.company)\n",
    "print(\"Billing:\", customer2.billing)\n",
    "print(\"Shipping\", customer2. shipping)\n",
    "                     "
   ]
  },
  {
   "cell_type": "code",
   "execution_count": 65,
   "id": "3f85aabb",
   "metadata": {},
   "outputs": [
    {
     "name": "stdout",
     "output_type": "stream",
     "text": [
      "Enter a date (YYYY-MM-DD): 20-7-2023\n",
      "The entered date is in the past.\n"
     ]
    }
   ],
   "source": [
    "from datetime import datetime\n",
    "\n",
    "def is_date_in_future(date_string):\n",
    "    try:\n",
    "        input_date = datetime.strptime(date_string, \"%Y-%m-%d\")\n",
    "        today = datetime.today().date()\n",
    "        \n",
    "        return input_date >= today\n",
    "    except ValueError:\n",
    "        return False\n",
    "\n",
    "date_input = input(\"Enter a date (YYYY-MM-DD): \")\n",
    "if is_date_in_future(date_input):\n",
    "    print(\"The entered date is today or in the future.\")\n",
    "else:\n",
    "    print(\"The entered date is in the past.\")"
   ]
  },
  {
   "cell_type": "code",
   "execution_count": 4,
   "id": "25f9b4fb",
   "metadata": {},
   "outputs": [
    {
     "name": "stdout",
     "output_type": "stream",
     "text": [
      "Total Amount: 193.29999999999998\n"
     ]
    }
   ],
   "source": [
    "products = [\n",
    "    {\"product_name\": \"P1\", \"price\": 1.9, \"quantity\": 2},\n",
    "    {\"product_name\": \"P2\", \"price\": 59.8, \"quantity\": 3},\n",
    "    {\"product_name\": \"P3\", \"price\": 10.10, \"quantity\": 1}\n",
    "]\n",
    "\n",
    "total_amount = 0\n",
    "\n",
    "for product in products:\n",
    " total_amount += product[\"price\"] * product[\"quantity\"]\n",
    "\n",
    "print(\"Total Amount:\", total_amount)"
   ]
  },
  {
   "cell_type": "code",
   "execution_count": 5,
   "id": "43f01378",
   "metadata": {},
   "outputs": [
    {
     "name": "stdout",
     "output_type": "stream",
     "text": [
      "Total Amount: 193.29999999999998\n"
     ]
    }
   ],
   "source": [
    "class OrderLine:\n",
    "    def __init__(self, product_name, price, quantity):\n",
    "        self.product_name = product_name\n",
    "        self.price = price\n",
    "        self.quantity = quantity\n",
    "\n",
    "order_lines = [\n",
    "    OrderLine(\"P1\", 1.9, 2),\n",
    "    OrderLine(\"P2\", 59.8, 3),\n",
    "    OrderLine(\"P3\", 10.10, 1)\n",
    "]\n",
    "\n",
    "total_amount = 0\n",
    "for order_line in order_lines:\n",
    "    total_amount += order_line.price * order_line.quantity\n",
    "\n",
    "print(\"Total Amount:\", total_amount)"
   ]
  },
  {
   "cell_type": "code",
   "execution_count": 52,
   "id": "0d5d61ce",
   "metadata": {},
   "outputs": [
    {
     "name": "stdout",
     "output_type": "stream",
     "text": [
      "Order Information:\n",
      "Order Number: ORD123\n",
      "Product: Electronics\n",
      "Quantity: 20\n",
      "Price: 45000\n",
      "Subtotal: 900000\n"
     ]
    }
   ],
   "source": [
    "class Order:\n",
    "    def __init__(self, order_number):\n",
    "        self.order_number = order_number\n",
    "        \n",
    "    def order_info(self):\n",
    "        print(f\"Order Number: {self.order_number}\")\n",
    "        \n",
    "        \n",
    "class OrderLine:\n",
    "    def __init__(self, order, product, quantity, price):\n",
    "        self.order = order\n",
    "        self.product = product\n",
    "        self.quantity = quantity\n",
    "        self.price = price\n",
    "        self.subtotal = quantity * price  \n",
    "        \n",
    "    def order_info(self):\n",
    "        print(\"Order Information:\")\n",
    "        self.order.order_info() \n",
    "        print(f\"Product: {self.product}\")\n",
    "        print(f\"Quantity: {self.quantity}\")\n",
    "        print(f\"Price: {self.price}\")\n",
    "        print(f\"Subtotal: {self.subtotal}\")\n",
    "\n",
    "order_obj = Order(order_number=\"ORD123\") \n",
    "\n",
    "order_line = OrderLine(\n",
    "    order=order_obj,\n",
    "    product=\"Electronics\",\n",
    "    quantity=20,\n",
    "    price=45000\n",
    ")\n",
    "\n",
    "order_line.order_info()"
   ]
  },
  {
   "cell_type": "code",
   "execution_count": 58,
   "id": "128734a5",
   "metadata": {},
   "outputs": [
    {
     "name": "stdout",
     "output_type": "stream",
     "text": [
      "Customer Information:\n",
      "Name: Kim Taehyung\n",
      "Email: Tae0825@example.com\n",
      "Address: Hanam The Hill, Seoul\n",
      "Phone: 123-456-7890\n",
      "\n",
      "Order Information:\n",
      "Order ID: ORD123\n",
      "Products: P1, P2, P3\n",
      "Total Amount: 150.0\n"
     ]
    }
   ],
   "source": [
    "class Customer:\n",
    "    def __init__(self, name, email, address, phone):\n",
    "        self.name = name\n",
    "        self.email = email\n",
    "        self.address = address\n",
    "        self.phone = phone\n",
    "\n",
    "class Order:\n",
    "    def __init__(self, order_id, products, total_amount):\n",
    "        self.order_id = order_id\n",
    "        self.products = products\n",
    "        self.total_amount = total_amount\n",
    "\n",
    "customer = Customer('Kim Taehyung', 'Tae0825@example.com', 'Hanam The Hill, Seoul', '123-456-7890')\n",
    "order = Order('ORD123', ['P1', 'P2', 'P3'], 150.00)\n",
    "\n",
    "print(\"Customer Information:\")\n",
    "print(\"Name:\", customer.name)\n",
    "print(\"Email:\", customer.email)\n",
    "print(\"Address:\", customer.address)\n",
    "print(\"Phone:\", customer.phone)\n",
    "print()\n",
    "\n",
    "print(\"Order Information:\")\n",
    "print(\"Order ID:\", order.order_id)\n",
    "print(\"Products:\", ', '.join(order.products))\n",
    "print(\"Total Amount:\", order.total_amount)\n"
   ]
  },
  {
   "cell_type": "code",
   "execution_count": 59,
   "id": "2807c317",
   "metadata": {},
   "outputs": [
    {
     "name": "stdout",
     "output_type": "stream",
     "text": [
      "Sorted Orders by Date:\n",
      "Order ID: ORD124\n",
      "Products: Product C, Product D\n",
      "Total Amount: 150.0\n",
      "Date: 2023-08-14\n",
      "\n",
      "Order ID: ORD123\n",
      "Products: Product A, Product B\n",
      "Total Amount: 100.0\n",
      "Date: 2023-08-15\n",
      "\n",
      "Order ID: ORD125\n",
      "Products: Product E, Product F\n",
      "Total Amount: 200.0\n",
      "Date: 2023-08-16\n",
      "\n"
     ]
    }
   ],
   "source": [
    "class Order:\n",
    "    def __init__(self, order_id, products, total_amount, date):\n",
    "        self.order_id = order_id\n",
    "        self.products = products\n",
    "        self.total_amount = total_amount\n",
    "        self.date = date\n",
    "        \n",
    "orders = [\n",
    "    Order('ORD123', ['Product A', 'Product B'], 100.00, '2023-08-15'),\n",
    "    Order('ORD124', ['Product C', 'Product D'], 150.00, '2023-08-14'),\n",
    "    Order('ORD125', ['Product E', 'Product F'], 200.00, '2023-08-16')\n",
    "]\n",
    "\n",
    "sorted_orders = sorted(orders, key=lambda order: order.date)\n",
    "\n",
    "print(\"Sorted Orders by Date:\")\n",
    "for order in sorted_orders:\n",
    "    print(\"Order ID:\", order.order_id)\n",
    "    print(\"Products:\", ', '.join(order.products))\n",
    "    print(\"Total Amount:\", order.total_amount)\n",
    "    print(\"Date:\", order.date)\n",
    "    print()\n"
   ]
  },
  {
   "cell_type": "code",
   "execution_count": 10,
   "id": "c58dc7d4",
   "metadata": {},
   "outputs": [
    {
     "name": "stdout",
     "output_type": "stream",
     "text": [
      "   Order No.       Date    product customerName\n",
      "0        101 2023-02-26   lipstick       Prachi\n",
      "1        102 2023-08-05  haircolor      Khushbu\n",
      "2        103 2023-05-06    compact        Priti\n",
      "3        104 2023-08-03      liner      Akansha\n",
      "   Order No.       Date    product customerName\n",
      "0        101 2023-02-26   lipstick       Prachi\n",
      "2        103 2023-05-06    compact        Priti\n",
      "3        104 2023-08-03      liner      Akansha\n",
      "1        102 2023-08-05  haircolor      Khushbu\n",
      "   Order No.       Date    product customerName\n",
      "1        102 2023-08-05  haircolor      Khushbu\n",
      "3        104 2023-08-03      liner      Akansha\n",
      "   Order No.       Date   product customerName\n",
      "0        101 2023-02-26  lipstick       Prachi\n",
      "Empty DataFrame\n",
      "Columns: [Order No., Date, product, customerName]\n",
      "Index: []\n"
     ]
    },
    {
     "name": "stderr",
     "output_type": "stream",
     "text": [
      "C:\\Users\\Prachi\\AppData\\Local\\Temp\\ipykernel_8792\\1755310837.py:11: UserWarning: Parsing '26-02-2023' in DD/MM/YYYY format. Provide format or specify infer_datetime_format=True for consistent parsing.\n",
      "  df['Date']=pd.to_datetime(df['Date'])\n"
     ]
    }
   ],
   "source": [
    "import pandas as pd\n",
    "data = {\n",
    "    \"Order No.\" : [101,102,103,104],\n",
    "    \"Date\" : [\"26-02-2023\",\"08-05-2023\",\"05-06-2023\",\"08-03-2023\"],\n",
    "     \"product\" : [\"lipstick\",\"haircolor\",\"compact\",\"liner\"],\n",
    "    \"customerName\" : [\"Prachi\",\"Khushbu\",\"Priti\",\"Akansha\"]\n",
    "}\n",
    "\n",
    "df = pd.DataFrame(data)\n",
    "\n",
    "df['Date']=pd.to_datetime(df['Date'])\n",
    "\n",
    "def display_order(df):\n",
    "    print(df)\n",
    "    \n",
    "def sort_order(df):\n",
    "    sorted_df=df.sort_values(by='Date')\n",
    "    print(sorted_df)\n",
    "    \n",
    "def filters_orders(df):\n",
    "    current_month = pd.to_datetime('today').month\n",
    "    filtered_df = df[df['Date'].dt.month==current_month]\n",
    "    print(filtered_df)\n",
    "    \n",
    "def search_order(df,order_number):\n",
    "    result = df[df['Order No.']==order_number]\n",
    "    print(result)\n",
    "    \n",
    "def display_products(df,product_name):\n",
    "    product_orders = df[df['product']==product_name]\n",
    "    print(product_orders)\n",
    "    \n",
    "display_order(df)\n",
    "sort_order(df)\n",
    "filters_orders(df)\n",
    "search_order(df,101)\n",
    "display_products(df,\"shampoo\")"
   ]
  },
  {
   "cell_type": "code",
   "execution_count": null,
   "id": "8b084067",
   "metadata": {},
   "outputs": [],
   "source": []
  },
  {
   "cell_type": "markdown",
   "id": "50040789",
   "metadata": {},
   "source": []
  }
 ],
 "metadata": {
  "kernelspec": {
   "display_name": "Python 3 (ipykernel)",
   "language": "python",
   "name": "python3"
  },
  "language_info": {
   "codemirror_mode": {
    "name": "ipython",
    "version": 3
   },
   "file_extension": ".py",
   "mimetype": "text/x-python",
   "name": "python",
   "nbconvert_exporter": "python",
   "pygments_lexer": "ipython3",
   "version": "3.9.12"
  }
 },
 "nbformat": 4,
 "nbformat_minor": 5
}
