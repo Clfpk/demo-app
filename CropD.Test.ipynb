{
 "cells": [
  {
   "cell_type": "code",
   "execution_count": 4,
   "id": "a7967ed4",
   "metadata": {},
   "outputs": [
    {
     "name": "stdout",
     "output_type": "stream",
     "text": [
      "Enter N=55\n",
      "Enter P=22\n",
      "Enter K=152\n",
      "Enter temperature=21.3\n",
      "Enter humidity=51.52\n",
      "Enter ph=12\n",
      "Enter rainfall=54\n",
      "['chickpea']\n"
     ]
    }
   ],
   "source": [
    "import pickle\n",
    "model=pickle.load(open(\"model_CropData.pkl\",\"rb\"))\n",
    "N=input(\"Enter N=\")\n",
    "P=input(\"Enter P=\")\n",
    "K=input(\"Enter K=\")\n",
    "temperature=input(\"Enter temperature=\")\n",
    "humidity =input(\"Enter humidity=\")\n",
    "ph=input(\"Enter ph=\")\n",
    "rainfall=input(\"Enter rainfall=\")\n",
    "\n",
    "print(model.predict([[N,P,K,temperature,humidity,ph,rainfall]]))"
   ]
  },
  {
   "cell_type": "code",
   "execution_count": null,
   "id": "21455db0",
   "metadata": {},
   "outputs": [],
   "source": []
  },
  {
   "cell_type": "code",
   "execution_count": null,
   "id": "7189e794",
   "metadata": {},
   "outputs": [],
   "source": []
  }
 ],
 "metadata": {
  "kernelspec": {
   "display_name": "Python 3 (ipykernel)",
   "language": "python",
   "name": "python3"
  },
  "language_info": {
   "codemirror_mode": {
    "name": "ipython",
    "version": 3
   },
   "file_extension": ".py",
   "mimetype": "text/x-python",
   "name": "python",
   "nbconvert_exporter": "python",
   "pygments_lexer": "ipython3",
   "version": "3.9.12"
  }
 },
 "nbformat": 4,
 "nbformat_minor": 5
}
