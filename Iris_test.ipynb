{
 "cells": [
  {
   "cell_type": "code",
   "execution_count": 2,
   "id": "acf93610",
   "metadata": {},
   "outputs": [
    {
     "name": "stdout",
     "output_type": "stream",
     "text": [
      "Enter SL=1.2\n",
      "Enter SW=3.2\n",
      "Enter PL=1.4\n",
      "Enter PW=2.4\n",
      "['setosa']\n"
     ]
    }
   ],
   "source": [
    "import pickle\n",
    "model=pickle.load(open(\"model_iris.pkl\",\"rb\"))\n",
    "sl=input(\"Enter SL=\")\n",
    "sw=input(\"Enter SW=\")\n",
    "pl=input(\"Enter PL=\")\n",
    "pw=input(\"Enter PW=\")\n",
    "print(model.predict([[sl,sw,pl,pw]]))"
   ]
  },
  {
   "cell_type": "code",
   "execution_count": null,
   "id": "c93e0b78",
   "metadata": {},
   "outputs": [],
   "source": []
  }
 ],
 "metadata": {
  "kernelspec": {
   "display_name": "Python 3 (ipykernel)",
   "language": "python",
   "name": "python3"
  },
  "language_info": {
   "codemirror_mode": {
    "name": "ipython",
    "version": 3
   },
   "file_extension": ".py",
   "mimetype": "text/x-python",
   "name": "python",
   "nbconvert_exporter": "python",
   "pygments_lexer": "ipython3",
   "version": "3.9.12"
  }
 },
 "nbformat": 4,
 "nbformat_minor": 5
}
