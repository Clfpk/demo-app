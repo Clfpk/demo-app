{
 "cells": [
  {
   "cell_type": "code",
   "execution_count": 3,
   "id": "a7967ed4",
   "metadata": {},
   "outputs": [
    {
     "name": "stdout",
     "output_type": "stream",
     "text": [
      "Enter N=90\n",
      "Enter P=42\n",
      "Enter K=43\n",
      "Enter temperature=90.87\n",
      "Enter humidity=202.32\n",
      "Enter ph=82.3\n",
      "Enter rainfall=87.56\n",
      "['papaya']\n"
     ]
    }
   ],
   "source": [
    "import pickle\n",
    "model=pickle.load(open(\"model_CropData.pkl\",\"rb\"))\n",
    "N=input(\"Enter N=\")\n",
    "P=input(\"Enter P=\")\n",
    "K=input(\"Enter K=\")\n",
    "temperature=input(\"Enter temperature=\")\n",
    "humidity =input(\"Enter humidity=\")\n",
    "ph=input(\"Enter ph=\")\n",
    "rainfall=input(\"Enter rainfall=\")\n",
    "\n",
    "print(model.predict([[N,P,K,temperature,humidity,ph,rainfall]]))"
   ]
  },
  {
   "cell_type": "code",
   "execution_count": null,
   "id": "c3d15cb5",
   "metadata": {},
   "outputs": [],
   "source": []
  },
  {
   "cell_type": "code",
   "execution_count": null,
   "id": "4d6862b1",
   "metadata": {},
   "outputs": [],
   "source": []
  }
 ],
 "metadata": {
  "kernelspec": {
   "display_name": "Python 3 (ipykernel)",
   "language": "python",
   "name": "python3"
  },
  "language_info": {
   "codemirror_mode": {
    "name": "ipython",
    "version": 3
   },
   "file_extension": ".py",
   "mimetype": "text/x-python",
   "name": "python",
   "nbconvert_exporter": "python",
   "pygments_lexer": "ipython3",
   "version": "3.9.12"
  }
 },
 "nbformat": 4,
 "nbformat_minor": 5
}
